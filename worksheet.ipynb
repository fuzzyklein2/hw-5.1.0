{
 "cells": [
  {
   "cell_type": "code",
   "execution_count": 1,
   "id": "591468ff-64fd-4d79-bd6c-30036c160126",
   "metadata": {},
   "outputs": [],
   "source": [
    "import os\n",
    "os.environ['CMD_LINE'] = \"-v -l log/lab.log\"\n",
    "os.environ['logfile'] = 'log/lab.log'\n",
    "os.environ['config'] = 'etc/config.ini'\n",
    "os.environ['input'] = 'input.txt'\n",
    "os.environ['output'] = 'output.txt'"
   ]
  },
  {
   "cell_type": "code",
   "execution_count": 2,
   "id": "ceddac30-234e-45ee-9e36-51d0dea64c16",
   "metadata": {},
   "outputs": [
    {
     "name": "stderr",
     "output_type": "stream",
     "text": [
      "2025-02-13 16:56:35,140 - INFO - Logging configuration complete.\n",
      "2025-02-13 16:56:35,142 - WARNING - /home/fuzzy/Documents/GitHub/hw-5.1.0/hw/__init__.py:146: UserWarning: This program is still in development. Beware of bugs!\n",
      "  warnings.warn(\"This program is still in development. Beware of bugs!\")\n",
      "\n",
      "2025-02-13 16:56:35,142 - INFO - CONFIG=PosixPath('/home/fuzzy/Documents/GitHub/hw-5.1.0/etc/config.ini')\n",
      "2025-02-13 16:56:35,144 - INFO - INPUT=''\n"
     ]
    },
    {
     "name": "stdout",
     "output_type": "stream",
     "text": [
      "Initializing hw\n"
     ]
    }
   ],
   "source": [
    "from hw import *"
   ]
  },
  {
   "cell_type": "code",
   "execution_count": 3,
   "id": "74054a93-4b63-408a-8c22-0a9b8963ee50",
   "metadata": {
    "editable": true,
    "slideshow": {
     "slide_type": ""
    },
    "tags": []
   },
   "outputs": [
    {
     "data": {
      "text/plain": [
       "'worksheet'"
      ]
     },
     "execution_count": 3,
     "metadata": {},
     "output_type": "execute_result"
    }
   ],
   "source": [
    "PROGRAM"
   ]
  },
  {
   "cell_type": "code",
   "execution_count": 4,
   "id": "4ad94d05-f62d-4c81-8bf6-5efdffa1b1ce",
   "metadata": {
    "editable": true,
    "slideshow": {
     "slide_type": ""
    },
    "tags": []
   },
   "outputs": [
    {
     "data": {
      "text/plain": [
       "['/home/fuzzy/python-3.13.2/lib/python3.13/site-packages/ipykernel_launcher.py',\n",
       " '-f',\n",
       " '/home/fuzzy/.local/share/jupyter/runtime/kernel-483bd416-d44c-40d9-8659-511bf8bc2e92.json']"
      ]
     },
     "execution_count": 4,
     "metadata": {},
     "output_type": "execute_result"
    }
   ],
   "source": [
    "import sys\n",
    "sys.argv"
   ]
  },
  {
   "cell_type": "code",
   "execution_count": 5,
   "id": "7141bd6f-d4b5-46d5-bfcf-72ae93965618",
   "metadata": {},
   "outputs": [
    {
     "data": {
      "text/plain": [
       "True"
      ]
     },
     "execution_count": 5,
     "metadata": {},
     "output_type": "execute_result"
    }
   ],
   "source": [
    "__debug__"
   ]
  },
  {
   "cell_type": "code",
   "execution_count": 6,
   "id": "0fded89d-6657-47d2-a7ce-e41a0eaa2a04",
   "metadata": {},
   "outputs": [
    {
     "name": "stdout",
     "output_type": "stream",
     "text": [
      "Help on function getenv in module os:\n",
      "\n",
      "getenv(key, default=None)\n",
      "    Get an environment variable, return None if it doesn't exist.\n",
      "    The optional second argument can specify an alternate default.\n",
      "    key, default and the result are str.\n",
      "\n"
     ]
    }
   ],
   "source": [
    "help(os.getenv)"
   ]
  },
  {
   "cell_type": "code",
   "execution_count": 7,
   "id": "f3d27a67-247d-48a3-8a8c-d81c6f12502b",
   "metadata": {},
   "outputs": [
    {
     "name": "stdout",
     "output_type": "stream",
     "text": [
      "BASIC_FORMAT        RootLogger           getHandlerNames       setLoggerClass\n",
      "BufferingFormatter  StrFormatStyle       getLevelName          shutdown      \n",
      "CRITICAL            StreamHandler        getLevelNamesMapping  sys           \n",
      "DEBUG               StringTemplateStyle  getLogRecordFactory   threading     \n",
      "ERROR               Template             getLogger             time          \n",
      "FATAL               WARN                 getLoggerClass        traceback     \n",
      "FileHandler         WARNING              handlers              warn          \n",
      "Filter              addLevelName         info                  warning       \n",
      "Filterer            atexit               io                    warnings      \n",
      "Formatter           basicConfig          lastResort            weakref       \n",
      "GenericAlias        captureWarnings      log                 \n",
      "Handler             collections          logAsyncioTasks     \n",
      "INFO                config               logMultiprocessing  \n",
      "LogRecord           critical             logProcesses        \n",
      "Logger              currentframe         logThreads          \n",
      "LoggerAdapter       debug                makeLogRecord       \n",
      "Manager             disable              os                  \n",
      "NOTSET              error                raiseExceptions     \n",
      "NullHandler         exception            re                  \n",
      "PercentStyle        fatal                root                \n",
      "PlaceHolder         getHandlerByName     setLogRecordFactory \n"
     ]
    }
   ],
   "source": [
    "from py.tools import *\n",
    "public(logging)"
   ]
  },
  {
   "cell_type": "code",
   "execution_count": 8,
   "id": "884bd778-cee9-44ac-a7be-bba25a3bb9e8",
   "metadata": {},
   "outputs": [
    {
     "name": "stdout",
     "output_type": "stream",
     "text": [
      "absolute    group            is_reserved  parent       rmdir       with_segments\n",
      "anchor      hardlink_to      is_socket    parents      root        with_stem    \n",
      "as_posix    home             is_symlink   parser       samefile    with_suffix  \n",
      "as_uri      is_absolute      iterdir      parts        stat        write_bytes  \n",
      "chmod       is_block_device  joinpath     read_bytes   stem        write_text   \n",
      "cwd         is_char_device   lchmod       read_text    suffix    \n",
      "drive       is_dir           lstat        readlink     suffixes  \n",
      "exists      is_fifo          match        relative_to  symlink_to\n",
      "expanduser  is_file          mkdir        rename       touch     \n",
      "from_uri    is_junction      name         replace      unlink    \n",
      "full_match  is_mount         open         resolve      walk      \n",
      "glob        is_relative_to   owner        rglob        with_name \n"
     ]
    }
   ],
   "source": [
    "public(Path)"
   ]
  },
  {
   "cell_type": "code",
   "execution_count": 9,
   "id": "22b6c3ba-6419-47c7-b736-78bb54a4a802",
   "metadata": {},
   "outputs": [
    {
     "name": "stdout",
     "output_type": "stream",
     "text": [
      "WarningMessage  deprecated      formatwarning  showwarning   warn         \n",
      "catch_warnings  filters         onceregistry   simplefilter  warn_explicit\n",
      "defaultaction   filterwarnings  resetwarnings  sys         \n"
     ]
    }
   ],
   "source": [
    "public(warnings)"
   ]
  },
  {
   "cell_type": "code",
   "execution_count": null,
   "id": "e2c063b1-fac8-454f-a8ff-ab1ad1f8bf06",
   "metadata": {},
   "outputs": [],
   "source": []
  }
 ],
 "metadata": {
  "kernelspec": {
   "display_name": "Python 3.13",
   "language": "python",
   "name": "python-3.13"
  },
  "language_info": {
   "codemirror_mode": {
    "name": "ipython",
    "version": 3
   },
   "file_extension": ".py",
   "mimetype": "text/x-python",
   "name": "python",
   "nbconvert_exporter": "python",
   "pygments_lexer": "ipython3",
   "version": "3.13.2"
  }
 },
 "nbformat": 4,
 "nbformat_minor": 5
}
